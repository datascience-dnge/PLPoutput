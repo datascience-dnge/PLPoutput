{
 "cells": [
  {
   "cell_type": "code",
   "execution_count": 1,
   "metadata": {},
   "outputs": [],
   "source": [
    "from pyspark.sql.functions import *"
   ]
  },
  {
   "cell_type": "code",
   "execution_count": 2,
   "metadata": {},
   "outputs": [],
   "source": [
    "hivepath=\"hdfs://machicura.colbunsa.cl:8020/user/hive/warehouse/\"\n",
    "db=\"bcene2019\""
   ]
  },
  {
   "cell_type": "code",
   "execution_count": 3,
   "metadata": {},
   "outputs": [],
   "source": [
    "dfb=spark.read.format(\"parquet\").load(hivepath+db+\".db/plpbar\")"
   ]
  },
  {
   "cell_type": "code",
   "execution_count": 4,
   "metadata": {},
   "outputs": [],
   "source": [
    "dfe=spark.read.format(\"parquet\").load(hivepath+db+\".db/plpeta\")"
   ]
  },
  {
   "cell_type": "code",
   "execution_count": 5,
   "metadata": {},
   "outputs": [],
   "source": [
    "#join between plpbar and plpeta\n",
    "dft1=dfb.join(dfe.select(\"BloqueE\",\"TipoBlo\",\"Duracion\",\"Fecha\",\"Categoria\"), dfb.Bloque==dfe.BloqueE,\"inner\").drop(dfe.BloqueE)"
   ]
  },
  {
   "cell_type": "code",
   "execution_count": 6,
   "metadata": {},
   "outputs": [],
   "source": [
    "#Create a column with product between Duracion and CMgBar named cruce, clean space in BarNom\n",
    "dft2=dft1.select(\"Fecha\",\"Hidro\",\"Categoria\",\"Duracion\", \"BarNom\", \"CMgBar\",\"DemBarE\",\"User\",\"DateStudy\",\"NameStudy\")\n",
    "dft2=dft2.withColumn(\"cruce\",col(\"CMgBar\")*col(\"Duracion\")).withColumn(\"BarNom\",trim(col(\"BarNom\")))\n",
    "dft2=dft2.withColumn(\"Anio\",year(dft2.Fecha))"
   ]
  },
  {
   "cell_type": "code",
   "execution_count": 7,
   "metadata": {},
   "outputs": [],
   "source": [
    "#group by fecha,hidro,barnom,user,datestudy and namestudy making aggregatino funcion over Duracion, DemBarE and cruce\n",
    "#also, was created a column with division between cruce and Duracion\n",
    "dft3=dft2.groupBy(\"Fecha\",\"Categoria\",\"Duracion\",\"Hidro\",\"BarNom\",\"User\",\"DateStudy\",\"NameStudy\",\"Anio\").agg({'Duracion':'sum','cruce':'sum','DemBarE':'sum'})\\\n",
    "         .withColumn(\"CMg\",col(\"sum(cruce)\")/col(\"sum(Duracion)\"))"
   ]
  },
  {
   "cell_type": "code",
   "execution_count": 12,
   "metadata": {},
   "outputs": [],
   "source": [
    "dft4=dft3.select(\"Fecha\",\"Categoria\",\"Duracion\",\"Hidro\",\"BarNom\",\"CMg\",\"sum(DemBarE)\",\"User\",\"DateStudy\",\"NameStudy\",\"Anio\")\n",
    "dft4=dft4.withColumnRenamed(\"sum(DemBarE)\",\"Demanda\")#.withColumn(\"Fecha\",to_date(col(\"Fecha\")).cast(\"date\"))"
   ]
  },
  {
   "cell_type": "code",
   "execution_count": 13,
   "metadata": {
    "scrolled": false
   },
   "outputs": [
    {
     "name": "stdout",
     "output_type": "stream",
     "text": [
      "root\n",
      " |-- Fecha: timestamp (nullable = true)\n",
      " |-- Categoria: string (nullable = true)\n",
      " |-- Duracion: decimal(3,0) (nullable = true)\n",
      " |-- Hidro: string (nullable = true)\n",
      " |-- BarNom: string (nullable = true)\n",
      " |-- CMg: double (nullable = true)\n",
      " |-- Demanda: double (nullable = true)\n",
      " |-- User: string (nullable = true)\n",
      " |-- DateStudy: timestamp (nullable = true)\n",
      " |-- NameStudy: string (nullable = true)\n",
      " |-- Anio: integer (nullable = true)\n",
      "\n",
      "+-------------------+------------+--------+------+-----------+-----+-------+------+-------------------+---------+----+\n",
      "|              Fecha|   Categoria|Duracion| Hidro|     BarNom|  CMg|Demanda|  User|          DateStudy|NameStudy|Anio|\n",
      "+-------------------+------------+--------+------+-----------+-----+-------+------+-------------------+---------+----+\n",
      "|2020-07-01 00:00:00|Madrugada   |      62|Sim 51|polpaico500|45.39|    0.0|jaraya|2019-02-01 00:00:00|       cb|2020|\n",
      "|2021-02-01 00:00:00|Dia         |     114|Sim 51|polpaico500|48.52|    0.0|jaraya|2019-02-01 00:00:00|       cb|2021|\n",
      "|2025-01-01 00:00:00|Noche       |      98|Sim 51|polpaico500|53.48|    0.0|jaraya|2019-02-01 00:00:00|       cb|2025|\n",
      "|2028-03-01 00:00:00|Madrugada   |     129|Sim 51|polpaico500|52.97|    0.0|jaraya|2019-02-01 00:00:00|       cb|2028|\n",
      "+-------------------+------------+--------+------+-----------+-----+-------+------+-------------------+---------+----+\n",
      "only showing top 4 rows\n",
      "\n"
     ]
    }
   ],
   "source": [
    "dft4.printSchema()\n",
    "dft4.show(4)"
   ]
  },
  {
   "cell_type": "code",
   "execution_count": null,
   "metadata": {},
   "outputs": [],
   "source": [
    "dft4.write.format(\"parquet\").partitionBy(\"Hidro\").saveAsTable(db+\".plpbarsl\")"
   ]
  }
 ],
 "metadata": {
  "kernelspec": {
   "display_name": "Python 2",
   "language": "python",
   "name": "python2"
  },
  "language_info": {
   "codemirror_mode": {
    "name": "ipython",
    "version": 2
   },
   "file_extension": ".py",
   "mimetype": "text/x-python",
   "name": "python",
   "nbconvert_exporter": "python",
   "pygments_lexer": "ipython2",
   "version": "2.7.5"
  }
 },
 "nbformat": 4,
 "nbformat_minor": 2
}
