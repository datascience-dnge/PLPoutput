{
 "cells": [
  {
   "cell_type": "code",
   "execution_count": 1,
   "metadata": {},
   "outputs": [],
   "source": [
    "from pyspark.sql.functions import *\n",
    "from sqlFunc import getData, save2Hive"
   ]
  },
  {
   "cell_type": "code",
   "execution_count": 2,
   "metadata": {},
   "outputs": [],
   "source": [
    "hdfs_path=\"testCSV/BCene2019\"\n",
    "db=\"bcene2019\"\n",
    "tdb='plp'\n",
    "name_std=\"cb\""
   ]
  },
  {
   "cell_type": "code",
   "execution_count": 3,
   "metadata": {},
   "outputs": [],
   "source": [
    "dfcen, dflin, dfser, dfemb, dfbar, dfeta, dfbarsl, dfcensl, dfbarcen=getData(spark,hdfs_path, db, tdb, name_std)"
   ]
  },
  {
   "cell_type": "code",
   "execution_count": 4,
   "metadata": {},
   "outputs": [
    {
     "name": "stdout",
     "output_type": "stream",
     "text": [
      "+-------------------+------+------------+-------------+----------+-----+----------+------+\n",
      "|              Fecha| Hidro|   Categoria|       CenNom|    BarNom|  CMg|Produccion|ordhid|\n",
      "+-------------------+------+------------+-------------+----------+-----+----------+------+\n",
      "|2019-01-01 00:00:00|Sim 38|Noche       |HID.LosMorros|ajahuel110|41.63|       0.1|    38|\n",
      "|2019-01-01 00:00:00|Sim 38|Noche       |HID.LosMorros|ajahuel110|42.06|       0.1|    38|\n",
      "|2019-01-01 00:00:00|Sim 38|Noche       |HID.LosMorros|ajahuel110|41.99|       0.1|    38|\n",
      "+-------------------+------+------------+-------------+----------+-----+----------+------+\n",
      "only showing top 3 rows\n",
      "\n"
     ]
    }
   ],
   "source": [
    "dfbarcen.show(3)"
   ]
  },
  {
   "cell_type": "code",
   "execution_count": 6,
   "metadata": {},
   "outputs": [],
   "source": [
    "spark.sql(\"create database if not exists bcene2019\")\n",
    "save2Hive(dfcen, dflin, dfser, dfemb, dfbar, dfeta, dfbarsl, dfcensl, dfbarcen, db, tdb, \"new\")"
   ]
  }
 ],
 "metadata": {
  "kernelspec": {
   "display_name": "Python 2",
   "language": "python",
   "name": "python2"
  },
  "language_info": {
   "codemirror_mode": {
    "name": "ipython",
    "version": 2
   },
   "file_extension": ".py",
   "mimetype": "text/x-python",
   "name": "python",
   "nbconvert_exporter": "python",
   "pygments_lexer": "ipython2",
   "version": "2.7.5"
  }
 },
 "nbformat": 4,
 "nbformat_minor": 2
}
